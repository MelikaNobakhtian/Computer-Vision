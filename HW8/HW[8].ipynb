{
  "cells": [
    {
      "cell_type": "code",
      "execution_count": null,
      "metadata": {
        "id": "eVE9CXTgGLxO"
      },
      "outputs": [],
      "source": [
        "!sudo apt install tesseract-ocr\n",
        "!pip install pytesseract===0.3.9"
      ]
    },
    {
      "cell_type": "code",
      "source": [
        "!sudo apt-get install tesseract-ocr-fas"
      ],
      "metadata": {
        "id": "iqHoYiSH62pz"
      },
      "execution_count": null,
      "outputs": []
    },
    {
      "cell_type": "markdown",
      "source": [
        "# **الف:**"
      ],
      "metadata": {
        "id": "Vk-Bsayi63d_"
      }
    },
    {
      "cell_type": "markdown",
      "source": [
        "## Otsu"
      ],
      "metadata": {
        "id": "sl3qKrBMQmik"
      }
    },
    {
      "cell_type": "code",
      "source": [
        "# Import required packages\n",
        "import cv2\n",
        "import pytesseract\n",
        "from google.colab.patches import cv2_imshow\n",
        "from PIL import Image"
      ],
      "metadata": {
        "id": "LIbBwxHuQtjd"
      },
      "execution_count": null,
      "outputs": []
    },
    {
      "cell_type": "code",
      "source": [
        "cv2.getStructuringElement(cv2.MORPH_RECT, (3, 3))"
      ],
      "metadata": {
        "colab": {
          "base_uri": "https://localhost:8080/"
        },
        "id": "dfo8aMRypHoE",
        "outputId": "74ef9694-5c8a-404b-8ce0-fb2d6f1380c2"
      },
      "execution_count": null,
      "outputs": [
        {
          "output_type": "execute_result",
          "data": {
            "text/plain": [
              "array([[1, 1, 1],\n",
              "       [1, 1, 1],\n",
              "       [1, 1, 1]], dtype=uint8)"
            ]
          },
          "metadata": {},
          "execution_count": 23
        }
      ]
    },
    {
      "cell_type": "code",
      "source": [
        "img = cv2.imread(\"royan.jpg\")\n",
        "gray = cv2.cvtColor(img, cv2.COLOR_BGR2GRAY)\n",
        "(T, threshInv) = cv2.threshold(gray, 0, 255, cv2.THRESH_BINARY | cv2.THRESH_OTSU)\n",
        "kernelSize = (3, 3)\n",
        "kernel = cv2.getStructuringElement(cv2.MORPH_RECT, kernelSize)\n",
        "iteration = 1\n",
        "dilation = cv2.dilate(threshInv.copy(), kernel, iterations= iteration)\n",
        "\n",
        "print(pytesseract.image_to_string(dilation , lang='fas'))"
      ],
      "metadata": {
        "colab": {
          "base_uri": "https://localhost:8080/"
        },
        "id": "sOiTlhFqkOU2",
        "outputId": "72562b0b-7aba-496d-8d73-d936decc0d0a"
      },
      "execution_count": null,
      "outputs": [
        {
          "output_type": "stream",
          "name": "stdout",
          "text": [
            "ل‌\n",
            "\n",
            "تیم‌های یر\n",
            "\n",
            "کادر پزشکی و اه\n",
            "\n",
            "فرهنگی , جیباد داز: 5\n",
            "\n",
            "و امدادگری برگزار می‌کرديم و 5\n",
            "\n",
            "آن معمولا با گروه یانزده‌بیست‌نفره ٩\n",
            "\n",
            "بهباری و امدادگری را تمام کرده بودند. به !\n",
            "\n",
            "و بعد از اتمام عملیات دوباره برمیگشتيم ۲\n",
            "\n",
            "دانشگاه مي‌شدیم ۱ ار\n",
            "همین روال ادامه داشت تااینکه سال ۱۳۶۲ محدد دانشگاه‌ها بازنده\n",
            "دانشجویان رفنند سر کلاس. هرقدر ارتباط با محبط آرام دانشگاه بنن\n",
            "می شد: مشرمی توانستند به جبیه ها بیایند. با این وضعیت معلوه بت\n",
            "اش انقلابی آن روزها بباید: حو-ی\n",
            "\n",
            "4 نود .\n",
            "\n",
            "۰\n",
            "‌ تک ید\n",
            "\n",
            "| یاه حود همه دورد\n",
            "\n",
            "۱ مجهاد دا\n",
            "۳ ۱ : نارای ۸ ود\n",
            "\n",
            "۱ اول آن روزف ب\n",
            "اک دند؛ موس\n",
            "\n",
            "۳0\n",
            "ال\n",
            "۰ ,۷\n",
            "\n",
            " \n",
            "\n",
            "۹\n",
            "اره (ه\n",
            "ریعدظ\n",
            "\f\n"
          ]
        }
      ]
    },
    {
      "cell_type": "code",
      "source": [
        "img = cv2.imread(\"royan.jpg\")\n",
        "gray = cv2.cvtColor(img, cv2.COLOR_BGR2GRAY)\n",
        "thresh = cv2.adaptiveThreshold(gray, 255, cv2.ADAPTIVE_THRESH_GAUSSIAN_C, cv2.THRESH_BINARY, 21, 3)\n",
        "kernelSize = (3, 3)\n",
        "kernel = cv2.getStructuringElement(cv2.MORPH_RECT, kernelSize)\n",
        "iteration = 1\n",
        "dilation = cv2.dilate(thresh.copy(), kernel, iterations= iteration)\n",
        "\n",
        "print(pytesseract.image_to_string(dilation , lang='fas'))"
      ],
      "metadata": {
        "colab": {
          "base_uri": "https://localhost:8080/"
        },
        "id": "C7kzo-E9mCZr",
        "outputId": "50c210f0-f997-4b61-b4d7-51204b9c8716"
      },
      "execution_count": null,
      "outputs": [
        {
          "output_type": "stream",
          "name": "stdout",
          "text": [
            "مٍ مه\n",
            "\n",
            "رو ت‌ سزر ۵ می دنل و ر آم س خر له ۱ أ‌ تس ی و 4\n",
            "ی ۳ شیم 9 دشسم ۵ 9 این ك ور ‌‌ ۰ ۳9 ۱ ٍ با ۱ ۳۳ : ۱ ۵ ‌\" ۱\n",
            "۳ ی \" زا با بش\n",
            "ی رشت وأمن دم کت ۵ ۳\n",
            "\n",
            "| هم ۳۹۹ چم ۹ 4 ۲\n",
            "اک امد 1۳ تصبا 9 ۷ و ایا مر تیاه |\n",
            "\n",
            "3\n",
            "تعدآد مجروصان 9 ایس ایام ستو یو و ۱\n",
            "تیم ضای یدنب سخی 9 امه بادی از هبی ‏ ی ت ۳\n",
            "کادر پزشکی و امداد و درمسان نیساز بی‌ن. 4\n",
            "نی دی |\n",
            "فرهنکی «حهاد دانش‌گاهی». برای « دجم هد ۳ »۳\n",
            "و امد ادگری برکز ار می ترذ یم و زمسان لتسون سای ۱ بِ ۱\n",
            "آن معم ما یا گروه یانزده بیسست نفره از دای تا یب\n",
            "بهباری 5 امد‌آدگری را تمام کرده نت یه ماش ی ۰\n",
            "و بعل ۹ ز اتمام عملیات دوباره برمی‌کش: سیم و دس ۲ ِ\n",
            "\n",
            "دانشگاه می‌ دیجم (نکشسر عبدالحسسین شساهورد تا و ندال\n",
            "کاظلمی‌آشتیانی و مدیرعاسل فعلی پژوهشگاهد رویان).\n",
            "همیسن رول ادامه داشت تا اینکه سال ۱۳۶۲ محدد دانشگاه‌ها بازشد؛\n",
            "می‌شد . کمترمی‌توانستند به جبهه‌ها بيایند. با این وضعیت مطوم ی\n",
            "بر سر دغدغه‌های ناارام سید و حوانان پرشورو انقلابی آن روزها بباید؛ جوانلیر\n",
            "۹۳ بر در یره بود .\n",
            "\n",
            "۲\n",
            "\n",
            "۳\n",
            "\n",
            " \n",
            "\n",
            "رای ؟ ۱ 5 ِ شلی سای أ\n",
            "در ی مس لب شیاه وله مت و اوعان از ار سوم 3 » \"\n",
            "ت ی ‌ کر ِ بخ رد\n",
            "\n",
            "2 2 4 ی مر ۱ 1\n",
            "\n",
            "‌ 2 ۳ ۲ ِ_ِ_ د ی شیی () هم و ۳ ی ۵ ۱ 5 ِ ۱ ۱ و ۳ »تست ول ‌ 1\n",
            "7 کر 1 ۳ ۰ ۰ ژ 9 که\n",
            "لل\" موس\n",
            "حدم ۱ ‌ِ ه ۱ و ۱ 1 ستَ أ ۱ ۵\n",
            "بت ی ی - 9 وید ۳۳ سس دی ۱ ۳ 1 ۲ ژِ ۱ ۰ 6 دام زان بل گر\n",
            "ِا ر ریبد ۱ سس ِ ۱\n",
            "\f\n"
          ]
        }
      ]
    },
    {
      "cell_type": "markdown",
      "source": [
        "# **ب:**"
      ],
      "metadata": {
        "id": "YyPqXjW06-dh"
      }
    },
    {
      "cell_type": "code",
      "execution_count": null,
      "metadata": {
        "id": "JBGeZj_DTzfs",
        "colab": {
          "base_uri": "https://localhost:8080/"
        },
        "outputId": "6200ff3d-299a-4892-ba72-f4273f1ecd4a"
      },
      "outputs": [
        {
          "output_type": "stream",
          "name": "stdout",
          "text": [
            " \n",
            "\n",
            "نام: ملیکا\n",
            "\n",
            "نام خانوادگی: نوبختیان\n",
            "\n",
            "شماره دانشجویی: ۷۵۲۲۰۹6٩\n",
            "نام کتاب مورد علاقه: نازنین\n",
            "\n",
            " \n",
            "\n",
            " \n",
            "\n",
            " \n",
            "\f\n"
          ]
        }
      ],
      "source": [
        "# Import required packages\n",
        "import cv2\n",
        "import pytesseract\n",
        "from google.colab.patches import cv2_imshow\n",
        "from PIL import Image\n",
        "##################### your code ################################\n",
        "img = cv2.imread(\"mypic.png\")\n",
        "gray = cv2.cvtColor(img, cv2.COLOR_BGR2GRAY)\n",
        "(T, threshInv) = cv2.threshold(gray, 0, 255, cv2.THRESH_BINARY | cv2.THRESH_OTSU)\n",
        "kernelSize = (3, 3)\n",
        "kernel = cv2.getStructuringElement(cv2.MORPH_CROSS, kernelSize)\n",
        "iteration = 2\n",
        "dilation = cv2.dilate(threshInv.copy(), kernel, iterations= iteration)\n",
        "\n",
        "\n",
        "################################################################\n",
        "# Finding contours\n",
        "im2 = img.copy()\n",
        "contours, hierarchy = cv2.findContours(dilation, cv2.RETR_EXTERNAL,cv2.CHAIN_APPROX_NONE)\n",
        "\n",
        "for cnt in contours:\n",
        "  x, y, w, h = cv2.boundingRect(cnt)\n",
        "\t# Drawing a rectangle on copied image\n",
        "  rect = cv2.rectangle(im2, (x, y), (x + w, y + h), (0, 255, 0), 2)\n",
        "\t# Cropping the text block for giving input to OCR\n",
        "  cropped = im2[y:y + h, x:x + w]\n",
        "  print(pytesseract.image_to_string(cropped, lang='fas'))\n"
      ]
    }
  ],
  "metadata": {
    "colab": {
      "provenance": []
    },
    "gpuClass": "standard",
    "kernelspec": {
      "display_name": "Python 3",
      "name": "python3"
    },
    "language_info": {
      "name": "python"
    }
  },
  "nbformat": 4,
  "nbformat_minor": 0
}