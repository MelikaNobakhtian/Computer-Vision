{
  "cells": [
    {
      "cell_type": "markdown",
      "metadata": {
        "id": "g8yi1QRsHfXG"
      },
      "source": [
        "#library"
      ]
    },
    {
      "cell_type": "code",
      "execution_count": 1,
      "metadata": {
        "id": "9BEn3LaRNO2A"
      },
      "outputs": [],
      "source": [
        "import os\n",
        "import glob\n",
        "import random\n",
        "import math\n",
        "import tensorflow\n",
        "import numpy as np\n",
        "from sklearn import svm\n",
        "from keras import layers\n",
        "from keras import models\n",
        "from skimage import feature\n",
        "from tensorflow import keras\n",
        "import matplotlib.pyplot as plt\n",
        "from tensorflow.python import image\n",
        "from keras.utils import to_categorical\n",
        "#from keras_visualizer import visualizer \n",
        "from keras.layers.core.dense import Dense\n",
        "from sklearn.metrics import accuracy_score\n",
        "from keras.utils.vis_utils import plot_model\n",
        "from tensorflow.python.ops.math_ops import add\n",
        "from keras.engine.sequential import Sequential\n",
        "from sklearn.preprocessing import LabelEncoder\n",
        "from keras.layers.serialization import activation\n",
        "from tensorflow.python.ops.math_ops import Sigmoid\n",
        "from sklearn.model_selection import train_test_split\n",
        "from keras.layers.convolutional.base_separable_conv import activations\n",
        "from skimage.feature import local_binary_pattern\n",
        "import cv2"
      ]
    },
    {
      "cell_type": "code",
      "execution_count": 17,
      "metadata": {
        "id": "SvdszFCrHSuj"
      },
      "outputs": [],
      "source": [
        "def largest_contour(image):\n",
        "  gray = cv2.cvtColor(image, cv2.COLOR_BGR2GRAY)\n",
        "  blurred = cv2.GaussianBlur(gray, (5, 5), 0)\n",
        "  thresh = cv2.adaptiveThreshold(gray, 255, cv2.ADAPTIVE_THRESH_MEAN_C, cv2.THRESH_BINARY, 21, 15)\n",
        "  kernelSize = (5, 5)\n",
        "  kernel = cv2.getStructuringElement(cv2.MORPH_RECT, kernelSize)\n",
        "  opening = cv2.morphologyEx(thresh, cv2.MORPH_OPEN, kernel)\n",
        "  contours, hierarchy= cv2.findContours(opening.copy(), cv2.RETR_EXTERNAL, cv2.CHAIN_APPROX_NONE)\n",
        "  all_areas= []\n",
        "  for cnt in contours:\n",
        "      area= cv2.contourArea(cnt)\n",
        "      all_areas.append(area)\n",
        "  sorted_contours= sorted(contours, key=cv2.contourArea, reverse= True)\n",
        "\n",
        "  return sorted_contours[0]"
      ]
    },
    {
      "cell_type": "markdown",
      "metadata": {
        "id": "BNex_EaD8nbF"
      },
      "source": [
        "#Part1.compatness"
      ]
    },
    {
      "cell_type": "code",
      "execution_count": 3,
      "metadata": {
        "id": "EN17ostNnHI_"
      },
      "outputs": [],
      "source": [
        "def compatness(image):\n",
        "  contour = largest_contour(image)\n",
        "  area = cv2.contourArea(contour)\n",
        "  perimeter = cv2.arcLength(contour, True)\n",
        "  compactness_score = (4 * np.pi * area) / (perimeter * perimeter)\n",
        "  return compactness_score"
      ]
    },
    {
      "cell_type": "markdown",
      "metadata": {
        "id": "yfuazVl48o_I"
      },
      "source": [
        "#Part2.eccenticity"
      ]
    },
    {
      "cell_type": "code",
      "execution_count": 4,
      "metadata": {
        "id": "7MMcGZH0nPXo"
      },
      "outputs": [],
      "source": [
        "def eccenticity(image):\n",
        "  contour = largest_contour(image)\n",
        "  (x, y), (minor_axis, major_axis), angle = cv2.fitEllipse(contour)\n",
        "  eccentricity_score = math.sqrt(1 - (minor_axis / major_axis) * (minor_axis / major_axis))\n",
        "  return eccentricity_score"
      ]
    },
    {
      "cell_type": "markdown",
      "metadata": {
        "id": "-iYszMlR8rTp"
      },
      "source": [
        "#Part3.solidity"
      ]
    },
    {
      "cell_type": "code",
      "execution_count": 5,
      "metadata": {
        "id": "4Ai0soihnPVm"
      },
      "outputs": [],
      "source": [
        "def solidity(image):\n",
        "  contour = largest_contour(image)\n",
        "  area = cv2.contourArea(contour)\n",
        "  hull = cv2.convexHull(contour)\n",
        "  hull_area = cv2.contourArea(hull)\n",
        "  solidity_score = float(area)/hull_area\n",
        "  return  solidity_score"
      ]
    },
    {
      "cell_type": "markdown",
      "metadata": {
        "id": "ND4198GF8ybo"
      },
      "source": [
        "#Part4.LBP"
      ]
    },
    {
      "cell_type": "code",
      "execution_count": 6,
      "metadata": {
        "id": "Smlqs2-_nPMh"
      },
      "outputs": [],
      "source": [
        "def histogram_of_LBP(image, numPoints, radius, eps=1e-7):\n",
        "\tgray = cv2.cvtColor(image, cv2.COLOR_BGR2GRAY)\n",
        "\tlbp = local_binary_pattern(gray, numPoints, radius, method='uniform')\n",
        "\tn_bins = int(lbp.max() + 1)\n",
        "\thist_values, _ = np.histogram(lbp, density=True, bins=n_bins, range=(0, n_bins))\n",
        "\treturn hist_values"
      ]
    },
    {
      "cell_type": "code",
      "execution_count": null,
      "metadata": {
        "colab": {
          "base_uri": "https://localhost:8080/"
        },
        "id": "Z7txFcFHUhvF",
        "outputId": "ec966e59-f3ef-442b-e55b-e2056335ac6c"
      },
      "outputs": [
        {
          "name": "stdout",
          "output_type": "stream",
          "text": [
            "[0.05301789505611162, 0.06527145890203215, 0.013770094024871095, 0.03842887473460722, 0.03524416135881104, 0.13281771307249013, 0.03897482559902942, 0.08777676675765848, 0.3605702153472854, 0.17412799514710342]\n"
          ]
        }
      ],
      "source": [
        "import glob\n",
        "plane_path = '/content/dataset/ship/'\n",
        "im_list = glob.glob(plane_path + '*.jpg')\n",
        "for im_path in im_list:\n",
        "  image = cv2.imread(im_path)\n",
        "  print(list(histogram_of_LBP(image, 8, 2)))\n",
        "  break"
      ]
    },
    {
      "cell_type": "markdown",
      "metadata": {
        "id": "Zsm9GZtLwJ0y"
      },
      "source": [
        "#validate function"
      ]
    },
    {
      "cell_type": "code",
      "execution_count": null,
      "metadata": {
        "id": "hJIh5ZQ6wJM-"
      },
      "outputs": [],
      "source": [
        "def validating_func(image_ship_path, image_airplane_path):\n",
        "  ship_img = cv2.imread(image_ship_path)\n",
        "  airplane_img = cv2.imread(image_airplane_path)\n",
        "  eccenticity_ship, eccenticity_airplane = eccenticity(ship_img), eccenticity(airplane_img)\n",
        "  compatness_ship, compatness_airplane = compatness(ship_img), compatness(airplane_img)\n",
        "  solidity_ship, solidity_airplane = solidity(ship_img), solidity(airplane_img)\n",
        "  print(f\"Result for ship image:\\ncompatness is : {compatness_ship}\\t\\teccenticity is : {eccenticity_ship}\\t\\tsolidity is : {solidity_ship}\")\n",
        "  print(f\"Result for airplane image:\\ncompatness is : {compatness_airplane}\\t\\teccenticity is : {eccenticity_airplane}\\t\\tsolidity is : {solidity_airplane}\")\n",
        "  "
      ]
    },
    {
      "cell_type": "code",
      "execution_count": null,
      "metadata": {
        "colab": {
          "base_uri": "https://localhost:8080/"
        },
        "id": "kfOsUdvWO2hO",
        "outputId": "0cbef755-fd08-484d-b41f-08c643efc88c"
      },
      "outputs": [
        {
          "name": "stdout",
          "output_type": "stream",
          "text": [
            "Result for ship image:\n",
            "compatness is : 0.093616023208505\t\teccenticity is : 0.9986409156043073\t\tsolidity is : 0.7504347826086957\n",
            "Result for airplane image:\n",
            "compatness is : 0.010229059865279236\t\teccenticity is : 0.8987501440101718\t\tsolidity is : 0.16793144949156452\n"
          ]
        }
      ],
      "source": [
        "validating_func('/content/dataset/ship/1073645.jpg', '/content/dataset/airplane/airplane1.jpg')"
      ]
    },
    {
      "cell_type": "markdown",
      "metadata": {
        "id": "weS9dHhXgJl1"
      },
      "source": [
        "#Part5.prepare dataset(just run this cell and not change)"
      ]
    },
    {
      "cell_type": "code",
      "execution_count": null,
      "metadata": {
        "id": "GM7pmrqmNWkA"
      },
      "outputs": [],
      "source": [
        "!gdown --id 1O_VkcGlWRR6h00VT8nXIgeI3RyvBpXbE\n",
        "!unzip dataset.zip\n",
        "classes = os.listdir(\"/content/dataset\")\n",
        "images_paths = glob.glob(\"/content/dataset/*/*\")"
      ]
    },
    {
      "cell_type": "code",
      "execution_count": 8,
      "metadata": {
        "id": "VV2LraFIeTzf"
      },
      "outputs": [],
      "source": [
        "x_data , y_data = [], []\n",
        "for img_path in images_paths:\n",
        "  x_data.append(cv2.resize(cv2.imread(img_path), (224,224)))\n",
        "  if img_path.split(\"/\")[3] == \"ship\":\n",
        "    y_data.append(0)\n",
        "  else:\n",
        "    y_data.append(1)  "
      ]
    },
    {
      "cell_type": "code",
      "execution_count": 22,
      "metadata": {
        "id": "pPluW3-beTzg"
      },
      "outputs": [],
      "source": [
        " x_train, x_test, y_train, y_test = train_test_split(x_data, y_data,test_size = 0.2, shuffle= True)"
      ]
    },
    {
      "cell_type": "markdown",
      "metadata": {
        "id": "r2Lu46_O81dO"
      },
      "source": [
        "#Part6. Exctract features and determine classifier"
      ]
    },
    {
      "cell_type": "code",
      "execution_count": 10,
      "metadata": {
        "id": "yACJSHhDgel7"
      },
      "outputs": [],
      "source": [
        "def get_featureMatrix(data):\n",
        "  train_count = len(data)\n",
        "  feature_matrix = [None] * train_count\n",
        "  for i in range(train_count):\n",
        "    compactness_score = compatness(data[i])\n",
        "    eccenticity_score = eccenticity(data[i])\n",
        "    solidity_score = solidity(data[i])\n",
        "    lbp = histogram_of_LBP(data[i], 16, 2)\n",
        "    feature_vec = np.concatenate((np.array([compactness_score, eccenticity_score, solidity_score]), lbp), axis=None)\n",
        "    feature_matrix[i] = feature_vec\n",
        "\n",
        "  return feature_matrix"
      ]
    },
    {
      "cell_type": "code",
      "execution_count": 23,
      "metadata": {
        "colab": {
          "base_uri": "https://localhost:8080/"
        },
        "id": "fNovCJaYdDJj",
        "outputId": "9f0c5d45-3410-4ab1-80d5-127406016515"
      },
      "outputs": [
        {
          "output_type": "execute_result",
          "data": {
            "text/plain": [
              "SVC()"
            ]
          },
          "metadata": {},
          "execution_count": 23
        }
      ],
      "source": [
        "# model 1\n",
        "feature_matrix_train = get_featureMatrix(x_train)\n",
        "#determine classifier and train \n",
        "clf = svm.SVC()\n",
        "clf.fit(feature_matrix_train, y_train)"
      ]
    },
    {
      "cell_type": "markdown",
      "metadata": {
        "id": "bslYazlcBvZH"
      },
      "source": [
        "#Part7"
      ]
    },
    {
      "cell_type": "code",
      "execution_count": 24,
      "metadata": {
        "colab": {
          "base_uri": "https://localhost:8080/"
        },
        "id": "Mi7ulg_ogUMa",
        "outputId": "c856a6b4-bd11-4d89-d371-aa7456043dc1"
      },
      "outputs": [
        {
          "output_type": "execute_result",
          "data": {
            "text/plain": [
              "0.78125"
            ]
          },
          "metadata": {},
          "execution_count": 24
        }
      ],
      "source": [
        "#test on test dataset\n",
        "feature_matrix_test = get_featureMatrix(x_test)\n",
        "y_pred = clf.predict(feature_matrix_test)\n",
        "accuracy_score(y_test, y_pred)"
      ]
    },
    {
      "cell_type": "markdown",
      "metadata": {
        "id": "PEGR2WSLB3vc"
      },
      "source": [
        "#Part8"
      ]
    },
    {
      "cell_type": "code",
      "execution_count": 21,
      "metadata": {
        "colab": {
          "base_uri": "https://localhost:8080/",
          "height": 281
        },
        "id": "AJpVJN4o5QKM",
        "outputId": "c9c59dc1-35f5-4377-8dfd-c31bd01493d5"
      },
      "outputs": [
        {
          "output_type": "display_data",
          "data": {
            "text/plain": [
              "<Figure size 432x288 with 1 Axes>"
            ],
            "image/png": "[encoded data removed]"
          },
          "metadata": {
            "needs_background": "light"
          }
        }
      ],
      "source": [
        "#test visualize\n",
        "index = random.randint(0, len(x_test)-1)\n",
        "prediction = clf.predict(get_featureMatrix(np.array([x_test[index]])))\n",
        "plt.title(f\"Ground truth lable :{y_test[index]} and predict class : {prediction}\")\n",
        "plt.imshow(x_test[index])\n",
        "plt.show()"
      ]
    }
  ],
  "metadata": {
    "colab": {
      "provenance": []
    },
    "kernelspec": {
      "display_name": "Python 3",
      "name": "python3"
    },
    "language_info": {
      "name": "python"
    }
  },
  "nbformat": 4,
  "nbformat_minor": 0
}