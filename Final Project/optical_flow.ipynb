{
  "cells": [
    {
      "cell_type": "code",
      "execution_count": null,
      "metadata": {
        "id": "dC4RPMS3rMQq"
      },
      "outputs": [],
      "source": [
        "import cv2\n",
        "import numpy as np\n",
        "import time\n",
        "import matplotlib.pyplot as plt\n",
        "import math\n",
        "import glob\n",
        "import json\n",
        "import skimage\n",
        "from skimage import data\n",
        "from skimage import exposure\n",
        "from skimage.exposure import match_histograms\n",
        "from google.colab.patches import cv2_imshow"
      ]
    },
    {
      "cell_type": "code",
      "execution_count": null,
      "metadata": {
        "id": "Ws5StfrDrbTa"
      },
      "outputs": [],
      "source": [
        "path = '/content/drive/MyDrive/CV/project'\n",
        "dataset_path = '/content/Dataset'\n",
        "patterns_path = '/content/Patterns'"
      ]
    },
    {
      "cell_type": "code",
      "execution_count": null,
      "metadata": {
        "id": "F-GZgEryfApP"
      },
      "outputs": [],
      "source": [
        "!unzip /content/drive/MyDrive/CV/project/Dataset.zip -d Dataset"
      ]
    },
    {
      "cell_type": "code",
      "execution_count": null,
      "metadata": {
        "colab": {
          "base_uri": "https://localhost:8080/"
        },
        "id": "ts3UeIHke-j_",
        "outputId": "9a3fed1e-17eb-4c17-a27d-30c2db7ff737"
      },
      "outputs": [
        {
          "name": "stdout",
          "output_type": "stream",
          "text": [
            "Archive:  /content/drive/MyDrive/CV/project/Patterns.zip\n",
            "  inflating: Patterns/AYLIN.tif      \n",
            "  inflating: Patterns/Orlando_60x60-1.tif  \n",
            "  inflating: Patterns/Orlando_60x60-10.tif  \n",
            "  inflating: Patterns/Orlando_60x60-2.tif  \n",
            "  inflating: Patterns/Orlando_60x60-3.tif  \n",
            "  inflating: Patterns/Orlando_60x60-5.tif  \n",
            "  inflating: Patterns/Orlando_60x60-6.tif  \n",
            "  inflating: Patterns/Orlando_60x60-7.tif  \n",
            "  inflating: Patterns/Orlando_60x60-8.tif  \n",
            "  inflating: Patterns/Orlando_60x60-9.tif  \n",
            "  inflating: Patterns/REJINA.tif     \n",
            "  inflating: Patterns/sama.tif       \n"
          ]
        }
      ],
      "source": [
        "!unzip /content/drive/MyDrive/CV/project/Patterns.zip -d Patterns"
      ]
    },
    {
      "cell_type": "code",
      "execution_count": null,
      "metadata": {
        "id": "swgkF0r_e6cA"
      },
      "outputs": [],
      "source": [
        "dataset_images = glob.glob(dataset_path + '/*.jpg') + glob.glob(dataset_path + '/*.png') + glob.glob(dataset_path + '/*.bmp')\n",
        "dataset_jsons = glob.glob(dataset_path + '/*.json')\n",
        "patterns_images = glob.glob(patterns_path + '/*.tif') "
      ]
    },
    {
      "cell_type": "code",
      "execution_count": null,
      "metadata": {
        "id": "gjzfq9_fe2hU"
      },
      "outputs": [],
      "source": [
        "images = []\n",
        "for im_path in dataset_images:\n",
        "  im = cv2.imread(im_path)\n",
        "  images.append(im)\n",
        "\n",
        "dataset_info = []\n",
        "for d_path in dataset_jsons:\n",
        "  with open(d_path) as f:\n",
        "    info = json.load(f, encoding='utf8')\n",
        "    dataset_info.append(info)\n",
        "\n",
        "patterns = []\n",
        "for p in patterns_images:\n",
        "  pat = cv2.imread(p)\n",
        "  patterns.append(pat)"
      ]
    },
    {
      "cell_type": "code",
      "execution_count": null,
      "metadata": {
        "colab": {
          "background_save": true
        },
        "id": "vvRFj4I_dvAI"
      },
      "outputs": [],
      "source": [
        "lk_params = dict(winSize  = (15, 15),\n",
        "                maxLevel = 2,\n",
        "                criteria = (cv2.TERM_CRITERIA_EPS | cv2.TERM_CRITERIA_COUNT, 10, 0.03))\n",
        "\n",
        "feature_params = dict(maxCorners = 20,\n",
        "                    qualityLevel = 0.3,\n",
        "                    minDistance = 10,\n",
        "                    blockSize = 7 )\n",
        "\n",
        "\n",
        "trajectory_len = 20\n",
        "detect_interval = 1\n",
        "trajectories = []\n",
        "frame_idx = 0\n",
        "\n",
        "\n",
        "# cap = cv2.VideoCapture(0)\n",
        "\n",
        "\n",
        "\n",
        "\n",
        "    # start time to calculate FPS\n",
        "    # start = time.time()\n",
        "\n",
        "# suc, frame = cap.read()\n",
        "frame = patterns[0]\n",
        "frame_gray = cv2.cvtColor(images[0], cv2.COLOR_BGR2GRAY)\n",
        "img = frame.copy()\n",
        "prev_gray= cv2.cvtColor(frame, cv2.COLOR_BGR2GRAY)\n",
        "# Calculate optical flow for a sparse feature set using the iterative Lucas-Kanade Method\n",
        "if len(trajectories) > 0:\n",
        "    img0, img1 = prev_gray, frame_gray\n",
        "    p0 = np.float32([trajectory[-1] for trajectory in trajectories]).reshape(-1, 1, 2)\n",
        "    p1, _st, _err = cv2.calcOpticalFlowPyrLK(img0, img1, p0, None, **lk_params)\n",
        "    p0r, _st, _err = cv2.calcOpticalFlowPyrLK(img1, img0, p1, None, **lk_params)\n",
        "    d = abs(p0-p0r).reshape(-1, 2).max(-1)\n",
        "    good = d < 1\n",
        "    new_trajectories = []\n",
        "    # Get all the trajectories\n",
        "    for trajectory, (x, y), good_flag in zip(trajectories, p1.reshape(-1, 2), good):\n",
        "        if not good_flag:\n",
        "            continue\n",
        "        trajectory.append((x, y))\n",
        "        if len(trajectory) > trajectory_len:\n",
        "            del trajectory[0]\n",
        "        new_trajectories.append(trajectory)\n",
        "        # Newest detected point\n",
        "        cv2.circle(img, (int(x), int(y)), 2, (0, 0, 255), -1)\n",
        "    trajectories = new_trajectories\n",
        "    # Draw all the trajectories\n",
        "    cv2.polylines(img, [np.int32(trajectory) for trajectory in trajectories], False, (0, 255, 0))\n",
        "    cv2.putText(img, 'track count: %d' % len(trajectories), (20, 50), cv2.FONT_HERSHEY_PLAIN, 1, (0,255,0), 2)\n",
        "# Update interval - When to update and detect new features\n",
        "if frame_idx % detect_interval == 0:\n",
        "    mask = np.zeros_like(frame_gray)\n",
        "    mask[:] = 255\n",
        "    # Lastest point in latest trajectory\n",
        "    for x, y in [np.int32(trajectory[-1]) for trajectory in trajectories]:\n",
        "        cv2.circle(mask, (x, y), 5, 0, -1)\n",
        "    # Detect the good features to track\n",
        "    p = cv2.goodFeaturesToTrack(frame_gray, mask = mask, **feature_params)\n",
        "    if p is not None:\n",
        "        # If good features can be tracked - add that to the trajectories\n",
        "        for x, y in np.float32(p).reshape(-1, 2):\n",
        "            trajectories.append([(x, y)])\n",
        "frame_idx += 1\n",
        "prev_gray = frame_gray\n",
        "# # End time\n",
        "# end = time.time()\n",
        "# # calculate the FPS for current frame detection\n",
        "# fps = 1 / (end-start)\n",
        "\n",
        "# Show Results\n",
        "# cv2.putText(img, f\"{fps:.2f} FPS\", (20, 30), cv2.FONT_HERSHEY_SIMPLEX, 1, (0, 255, 0), 2)\n",
        "cv2_imshow( img)\n",
        "cv2_imshow(mask)\n",
        "    # if cv2.waitKey(10) & 0xFF == ord('q'):\n",
        "    #     break\n",
        "\n",
        "\n",
        "# cap.release()\n",
        "# cv2.destroyAllWindows()"
      ]
    }
  ],
  "metadata": {
    "colab": {
      "provenance": []
    },
    "kernelspec": {
      "display_name": "Python 3",
      "name": "python3"
    },
    "language_info": {
      "name": "python"
    }
  },
  "nbformat": 4,
  "nbformat_minor": 0
}