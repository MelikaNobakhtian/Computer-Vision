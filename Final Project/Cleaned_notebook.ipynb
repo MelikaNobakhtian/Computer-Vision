{
  "cells": [
    {
      "cell_type": "markdown",
      "source": [
        "# Imports"
      ],
      "metadata": {
        "id": "b5w7Ue0_7SuM"
      }
    },
    {
      "cell_type": "code",
      "execution_count": null,
      "metadata": {
        "id": "VLo2ATQiPv7C"
      },
      "outputs": [],
      "source": [
        "import cv2\n",
        "import numpy as np\n",
        "import matplotlib.pyplot as plt\n",
        "import math\n",
        "import glob\n",
        "import json\n",
        "from google.colab.patches import cv2_imshow\n",
        "from skimage import exposure\n",
        "from skimage.exposure import match_histograms\n",
        "from skimage import data\n",
        "import matplotlib.pyplot as plt\n",
        "import tensorflow as tf\n",
        "from keras import layers\n",
        "import keras\n",
        "import random\n",
        "import keras.backend as K\n",
        "from keras.utils.vis_utils import plot_model"
      ]
    },
    {
      "cell_type": "code",
      "source": [
        "from google.colab import drive\n",
        "drive.mount('/content/drive')"
      ],
      "metadata": {
        "id": "UtK1veZsnA8U",
        "colab": {
          "base_uri": "https://localhost:8080/"
        },
        "outputId": "0ada0a92-5a5e-44f6-fe58-34562d8e1d56"
      },
      "execution_count": null,
      "outputs": [
        {
          "output_type": "stream",
          "name": "stdout",
          "text": [
            "Mounted at /content/drive\n"
          ]
        }
      ]
    },
    {
      "cell_type": "markdown",
      "source": [
        "# Path and Dataset"
      ],
      "metadata": {
        "id": "9u96Uuys7aAR"
      }
    },
    {
      "cell_type": "code",
      "execution_count": null,
      "metadata": {
        "id": "s256oDXcDnbS"
      },
      "outputs": [],
      "source": [
        "!unzip /content/drive/MyDrive/CV_project/Dataset.zip -d Dataset"
      ]
    },
    {
      "cell_type": "code",
      "execution_count": null,
      "metadata": {
        "id": "w559eSIwE5sz"
      },
      "outputs": [],
      "source": [
        "!unzip /content/drive/MyDrive/CV_project/Patterns.zip -d Patterns"
      ]
    },
    {
      "cell_type": "code",
      "execution_count": null,
      "metadata": {
        "id": "dY88qPfwDDTj"
      },
      "outputs": [],
      "source": [
        "dataset_path = '/content/Dataset'\n",
        "patterns_path = '/content/Patterns'"
      ]
    },
    {
      "cell_type": "code",
      "execution_count": null,
      "metadata": {
        "id": "NEX_-zsyP8DC"
      },
      "outputs": [],
      "source": [
        "dataset_images = glob.glob(dataset_path + '/*.jpg') + glob.glob(dataset_path + '/*.png') + glob.glob(dataset_path + '/*.bmp')\n",
        "dataset_jsons = glob.glob(dataset_path + '/*.json')\n",
        "patterns_images = glob.glob(patterns_path + '/*.tif')"
      ]
    },
    {
      "cell_type": "markdown",
      "source": [
        "Before doing any preprocessing, we should remove 2 outliers in dataset:\n",
        "\n",
        "\n",
        "> \n",
        "\n",
        "\n",
        "    - 1644888256.0602736.bmp\n",
        "\n",
        "> \n",
        "\n",
        "\n",
        "    - 1644888240.3566377.bmp"
      ],
      "metadata": {
        "id": "qaaVy4n8-RhJ"
      }
    },
    {
      "cell_type": "code",
      "source": [
        "dataset_info = {}\n",
        "for d_path in dataset_jsons:\n",
        "  with open(d_path) as f:\n",
        "    info = json.load(f, encoding='utf8')\n",
        "    dataset_info[info['imagePath']] = info"
      ],
      "metadata": {
        "id": "tD_4ur4D33jr"
      },
      "execution_count": null,
      "outputs": []
    },
    {
      "cell_type": "code",
      "source": [
        "patterns = {}\n",
        "for p in patterns_images:\n",
        "  p_name = p.split('/')[-1]\n",
        "  pat = cv2.imread(p)\n",
        "  patterns[p_name] = pat\n",
        "\n",
        "images = {}\n",
        "for im in dataset_images:\n",
        "  if '1644888256.0602736.bmp' in im or '1644888240.3566377.bmp' in im:\n",
        "      continue\n",
        "  im_name = im.split('/')[-1]\n",
        "  img = cv2.imread(im)\n",
        "  images[im_name] = img"
      ],
      "metadata": {
        "id": "zfTJLzjDKZaZ"
      },
      "execution_count": null,
      "outputs": []
    },
    {
      "cell_type": "code",
      "source": [
        "len(list(images.keys()))"
      ],
      "metadata": {
        "colab": {
          "base_uri": "https://localhost:8080/"
        },
        "id": "QuBMySwjC7Ma",
        "outputId": "cfa470f7-49c9-47d6-fd34-d11c907517ac"
      },
      "execution_count": null,
      "outputs": [
        {
          "output_type": "execute_result",
          "data": {
            "text/plain": [
              "306"
            ]
          },
          "metadata": {},
          "execution_count": 9
        }
      ]
    },
    {
      "cell_type": "markdown",
      "source": [
        "# Remove black margins"
      ],
      "metadata": {
        "id": "GyTHumuN4flI"
      }
    },
    {
      "cell_type": "code",
      "source": [
        "def remove_pattern_noise(img): \n",
        "  gray_img = cv2.cvtColor(img, cv2.COLOR_BGR2GRAY)\n",
        "\n",
        "  ret,otsu_thresh = cv2.threshold(gray_img,127,200,cv2.THRESH_BINARY)\n",
        "\n",
        "  kernel = np.ones((39, 39), np.uint8)\n",
        "\n",
        "  closing = cv2.morphologyEx(otsu_thresh, cv2.MORPH_CLOSE,\n",
        "                            kernel, iterations=1)\n",
        "\n",
        "  return cv2.Canny(np.uint8(closing), 80, 120)"
      ],
      "metadata": {
        "id": "fmSWNRlnIU8c"
      },
      "execution_count": null,
      "outputs": []
    },
    {
      "cell_type": "code",
      "source": [
        "def find_vertices(im):\n",
        "    contours, hierarchy = cv2.findContours(im, cv2.RETR_TREE, cv2.CHAIN_APPROX_NONE)\n",
        "\n",
        "    Minn, area = None, 0\n",
        "    for s in contours:\n",
        "        area_hold = cv2.contourArea(s)\n",
        "        if area_hold > area :\n",
        "            Minn = s\n",
        "            area = area_hold\n",
        "    if Minn is None:\n",
        "        return None\n",
        "    return cv2.approxPolyDP(Minn, 0.01*cv2.arcLength(Minn,True),True)"
      ],
      "metadata": {
        "id": "GztxOzzEKkp4"
      },
      "execution_count": null,
      "outputs": []
    },
    {
      "cell_type": "code",
      "source": [
        "def crop_out(im, vertices):\n",
        "    vertices = [vertices[0], vertices[3], vertices[1], vertices[2]]\n",
        "    vertices = np.array(vertices, dtype=np.float32)\n",
        "    width = math.ceil(np.sqrt(np.sum(np.power(vertices[0] - vertices[1], 2))))\n",
        "    height = math.ceil(np.sqrt(np.sum(np.power(vertices[0] - vertices[2], 2))))\n",
        "    target = np.float32([[0, 0], [width, 0],\n",
        "                       [0, height], [width, height]])\n",
        "    transform = cv2.getPerspectiveTransform(vertices, target)  # get the top or bird eye view effect\n",
        "    return cv2.warpPerspective(im, transform, (width, height))"
      ],
      "metadata": {
        "id": "TZc2fyq2LeuY"
      },
      "execution_count": null,
      "outputs": []
    },
    {
      "cell_type": "markdown",
      "source": [
        "# Creating Masks"
      ],
      "metadata": {
        "id": "fY8SWPkA9-JC"
      }
    },
    {
      "cell_type": "code",
      "source": [
        "def create_binary_masks(im, shape_dicts): \n",
        "    blank = np.zeros(shape=(im.shape[0], im.shape[1]), dtype=np.float32)\n",
        "    for shape in shape_dicts:\n",
        "        points = np.array(shape['points'], dtype=np.int32)\n",
        "        cv2.fillPoly(blank, [points], 255)\n",
        "    return blank"
      ],
      "metadata": {
        "id": "rMMi0X8v_X5s"
      },
      "execution_count": null,
      "outputs": []
    },
    {
      "cell_type": "markdown",
      "source": [
        "# Cropping images and Creating Masks"
      ],
      "metadata": {
        "id": "iZQp7lSv-D7K"
      }
    },
    {
      "cell_type": "code",
      "source": [
        "crop_path = '/content/drive/MyDrive/CV_Presenetation/Crop/'"
      ],
      "metadata": {
        "id": "grYGoH9AMuU2"
      },
      "execution_count": null,
      "outputs": []
    },
    {
      "cell_type": "code",
      "source": [
        "mask_path = '/content/drive/MyDrive/CV_Presenetation/Mask/'"
      ],
      "metadata": {
        "id": "q6YjDSsvAYEa"
      },
      "execution_count": null,
      "outputs": []
    },
    {
      "cell_type": "code",
      "source": [
        "for name, im in images.items():\n",
        "    shapes = dataset_info[name]['shapes']\n",
        "    mask = create_binary_masks(im, shapes)\n",
        "    cv2.imwrite(mask_path + name, mask)"
      ],
      "metadata": {
        "id": "ecz-eFTC_g8M"
      },
      "execution_count": null,
      "outputs": []
    },
    {
      "cell_type": "code",
      "source": [
        "for name, img in images.items():\n",
        "    new_im = remove_pattern_noise(img)\n",
        "    v = find_vertices(new_im)\n",
        "    res = crop_out(img, v)\n",
        "    mask = cv2.imread(mask_path + name)\n",
        "    mask_crop = crop_out(mask, v)\n",
        "    cv2.imwrite(crop_path + name, res)\n",
        "    cv2.imwrite(mask_path + name, mask_crop)"
      ],
      "metadata": {
        "id": "3B0cpvkbM1oI"
      },
      "execution_count": null,
      "outputs": []
    },
    {
      "cell_type": "code",
      "source": [
        "del images"
      ],
      "metadata": {
        "id": "Ouu-8UnNnPP_"
      },
      "execution_count": null,
      "outputs": []
    },
    {
      "cell_type": "markdown",
      "source": [
        "# Useful functions"
      ],
      "metadata": {
        "id": "GBxNIVPRPW8w"
      }
    },
    {
      "cell_type": "code",
      "source": [
        "def resize_img(img, desired_size = 1530):\n",
        "    channels = 3\n",
        "    old_size = img.shape\n",
        "    ratio = float(desired_size) / max(old_size)\n",
        "    new_size = (int(old_size[1] * ratio), int(old_size[0] * ratio))\n",
        "    img = cv2.resize(img, new_size)\n",
        "    diff_w = desired_size - new_size[0]\n",
        "    diff_h = desired_size - new_size[1]\n",
        "    top, bottom = diff_h//2, diff_h-(diff_h//2)\n",
        "    left, right = diff_w//2, diff_w-(diff_w//2)\n",
        "    new_img = np.zeros((desired_size, desired_size, channels), dtype=img.dtype)\n",
        "    for i in range(channels):\n",
        "      ch = img[:, :, i]\n",
        "      new_ch = np.pad(ch, ((top, bottom),(left, right)), 'constant')\n",
        "      new_img[:, :, i] = new_ch\n",
        "    return new_img"
      ],
      "metadata": {
        "id": "e_W3qcTGtGeI"
      },
      "execution_count": null,
      "outputs": []
    },
    {
      "cell_type": "code",
      "source": [
        "def hist_matching(img1, img2):\n",
        "    matched = match_histograms(img2, img1)\n",
        "    return cv2.normalize(matched, None, 0, 255, cv2.NORM_MINMAX).astype('uint8')\n",
        "\n",
        "def improve_contrast(img):\n",
        "    lab= cv2.cvtColor(img, cv2.COLOR_BGR2LAB)\n",
        "    l_channel, a, b = cv2.split(lab)\n",
        "\n",
        "    # Applying CLAHE to L-channel\n",
        "    clahe = cv2.createCLAHE(clipLimit=2.0, tileGridSize=(8,8))\n",
        "    cl = clahe.apply(l_channel)\n",
        "\n",
        "    # merge the CLAHE enhanced L-channel with the a and b channel\n",
        "    limg = cv2.merge((cl,a,b))\n",
        "\n",
        "    # Converting image from LAB Color model to BGR color spcae\n",
        "    enhanced_img = cv2.cvtColor(limg, cv2.COLOR_LAB2BGR)\n",
        "\n",
        "    return enhanced_img"
      ],
      "metadata": {
        "id": "sUt8BJO-tNKw"
      },
      "execution_count": null,
      "outputs": []
    },
    {
      "cell_type": "markdown",
      "source": [
        "# Loading Cropped Images and Resizing Patterns for Transformation"
      ],
      "metadata": {
        "id": "rziYVpUMOn25"
      }
    },
    {
      "cell_type": "code",
      "source": [
        "crop_images = glob.glob(crop_path + '/*.jpg') + glob.glob(crop_path + '/*.png') + glob.glob(crop_path + '/*.bmp')"
      ],
      "metadata": {
        "id": "zKmHsUsjOu4I"
      },
      "execution_count": null,
      "outputs": []
    },
    {
      "cell_type": "code",
      "source": [
        "cropped_ims = {}\n",
        "for im in crop_images:\n",
        "  im_name = im.split('/')[-1]\n",
        "  img = cv2.imread(im)\n",
        "  cropped_ims[im_name] = img"
      ],
      "metadata": {
        "id": "PVv6GOl4O-BG"
      },
      "execution_count": null,
      "outputs": []
    },
    {
      "cell_type": "code",
      "source": [
        "for p_name in patterns:\n",
        "    patterns[p_name] = resize_img(patterns[p_name])"
      ],
      "metadata": {
        "id": "VLIgHs7EtCYL"
      },
      "execution_count": null,
      "outputs": []
    },
    {
      "cell_type": "markdown",
      "source": [
        "# Finding Keypoints and Apply Transformation"
      ],
      "metadata": {
        "id": "Bny4g2N8GxgB"
      }
    },
    {
      "cell_type": "code",
      "source": [
        "transformed_pattern_path = '/content/drive/MyDrive/CV_Presenetation/Transform/'"
      ],
      "metadata": {
        "id": "SDLb37hYtcd4"
      },
      "execution_count": null,
      "outputs": []
    },
    {
      "cell_type": "code",
      "source": [
        "missed_ones = []"
      ],
      "metadata": {
        "id": "4U0Ke6_WH93h"
      },
      "execution_count": null,
      "outputs": []
    },
    {
      "cell_type": "code",
      "source": [
        "for name, img in cropped_ims.items():\n",
        "    img2 = img\n",
        "    pat_name = dataset_info[name]['pattern']\n",
        "    img1 = patterns[pat_name]\n",
        "    img2 = hist_matching(img1, img2)\n",
        "    img2 = improve_contrast(img2)\n",
        "    img1, img2 = img2, img1\n",
        "    img1_gray = cv2.cvtColor(img1, cv2.COLOR_BGR2GRAY)\n",
        "    img2_gray = cv2.cvtColor(img2, cv2.COLOR_BGR2GRAY)\n",
        "    sift = cv2.SIFT_create()\n",
        "    # find the keypoints and descriptors with SIFT\n",
        "    kp1, des1 = sift.detectAndCompute(img1_gray,None)\n",
        "    kp2, des2 = sift.detectAndCompute(img2_gray,None)\n",
        "    bf = cv2.BFMatcher()\n",
        "    matches = bf.knnMatch(des1,des2,k=2)\n",
        "    # Apply ratio test\n",
        "    good = []\n",
        "    for m,n in matches:\n",
        "        if m.distance < 0.75*n.distance:\n",
        "            good.append([m])\n",
        "    src_pts = np.float32([ kp1[m[0].queryIdx].pt for m in good ]).reshape(-1,1,2)\n",
        "    dst_pts = np.float32([ kp2[m[0].trainIdx].pt for m in good ]).reshape(-1,1,2)\n",
        "    if len(src_pts) >= 4:\n",
        "        H ,mask = cv2.findHomography(src_pts, dst_pts, cv2.RANSAC,5.0 )\n",
        "        perspective_img = cv2.warpPerspective(img2, H, (img1.shape[1], img1.shape[0]))\n",
        "        cv2.imwrite(transformed_pattern_path + pat_name.split('.')[0] + '_' + name, perspective_img )\n",
        "    else:\n",
        "        missed_ones.append(name)\n",
        "        continue"
      ],
      "metadata": {
        "id": "gqNgiOYgtUIw"
      },
      "execution_count": null,
      "outputs": []
    },
    {
      "cell_type": "code",
      "source": [
        "missed_ones"
      ],
      "metadata": {
        "colab": {
          "base_uri": "https://localhost:8080/"
        },
        "id": "MxMvozw6KDvT",
        "outputId": "2debe505-b374-49d5-d219-f6257845850e"
      },
      "execution_count": null,
      "outputs": [
        {
          "output_type": "execute_result",
          "data": {
            "text/plain": [
              "['1644428236.9963467.png',\n",
              " '1644434369.4772506.png',\n",
              " '1644441231.4249313.png',\n",
              " '1644880490.5008993.bmp',\n",
              " '1644879631.817003.bmp',\n",
              " '1644878967.7489526.bmp',\n",
              " '1644876249.3602998.bmp',\n",
              " '1644875773.6795602.bmp']"
            ]
          },
          "metadata": {},
          "execution_count": 27
        }
      ]
    },
    {
      "cell_type": "markdown",
      "source": [
        "We failed to transform pattern for tiles that are present in **missed_ones** so we remove them from dataset."
      ],
      "metadata": {
        "id": "7IwqWc3WK8IB"
      }
    },
    {
      "cell_type": "code",
      "source": [
        "for miss in missed_ones:\n",
        "    cropped_ims.pop(miss)"
      ],
      "metadata": {
        "id": "YO1z1cuwK7a5"
      },
      "execution_count": null,
      "outputs": []
    },
    {
      "cell_type": "markdown",
      "source": [
        "# sliding window"
      ],
      "metadata": {
        "id": "B4Tq-vTRH9eD"
      }
    },
    {
      "cell_type": "code",
      "source": [
        "def sliding_window(image, stepSize, windowSize):\n",
        "    for y in range(0, image.shape[0], stepSize):\n",
        "        for x in range(0, image.shape[1], stepSize):\n",
        "            if y + windowSize[1] < image.shape[0] and x + windowSize[0] < image.shape[1]:\n",
        "                yield [[x, y],[x + windowSize[0], y + windowSize[1]]]"
      ],
      "metadata": {
        "id": "1hzVbTfPIFP0"
      },
      "execution_count": null,
      "outputs": []
    },
    {
      "cell_type": "code",
      "source": [
        "step_size = 50\n",
        "window_size = (50, 50)\n",
        "tereshhold=0\n",
        "train1_fractured = []\n",
        "train2_fractured = []\n",
        "train1_without_fracture = []\n",
        "train2_without_fracture = []\n",
        "for name, img in cropped_ims.items():\n",
        "    mask = cv2.imread(mask_path + name)\n",
        "    pat_name = dataset_info[name]['pattern'].split('.')[0]\n",
        "    pat_t_name = pat_name + \"_\" + name\n",
        "    pat = cv2.imread(transformed_pattern_path + pat_t_name)\n",
        "    if pat is None:\n",
        "        continue\n",
        "    for win_coordinates in sliding_window(img, step_size, window_size):\n",
        "        x1=win_coordinates[0][0]\n",
        "        y1=win_coordinates[0][1]\n",
        "        x2=win_coordinates[1][0]\n",
        "        y2=win_coordinates[1][1]\n",
        "        masked_win = mask[y1:y2,x1:x2]\n",
        "        pattern_win = pat[y1:y2,x1:x2]\n",
        "        image_win = img[y1:y2,x1:x2]\n",
        "        win_sum=np.sum(masked_win)\n",
        "        if win_sum > tereshhold :\n",
        "            train1_fractured.append(image_win)\n",
        "            train2_fractured.append(pattern_win)\n",
        "        else:\n",
        "            train1_without_fracture.append(image_win)\n",
        "            train2_without_fracture.append(pattern_win)"
      ],
      "metadata": {
        "id": "FXJGzAkHKjcO"
      },
      "execution_count": null,
      "outputs": []
    },
    {
      "cell_type": "code",
      "source": [
        "print(f'with fracture: {len(train1_fractured)}')\n",
        "print(f'without fracture: {len(train1_without_fracture)}')"
      ],
      "metadata": {
        "colab": {
          "base_uri": "https://localhost:8080/"
        },
        "id": "jm_yhE89Mo0R",
        "outputId": "20a32d5f-3547-4dbf-8c68-532684ad4096"
      },
      "execution_count": null,
      "outputs": [
        {
          "output_type": "stream",
          "name": "stdout",
          "text": [
            "with fracture: 2045\n",
            "without fracture: 266935\n"
          ]
        }
      ]
    },
    {
      "cell_type": "code",
      "source": [
        "fracture_less = list(zip(train1_without_fracture, train2_without_fracture))\n",
        "less_1=[]\n",
        "less_2=[]\n",
        "for a,b in random.sample(fracture_less, 3000):\n",
        "    less_1.append(a)\n",
        "    less_2.append(b)"
      ],
      "metadata": {
        "id": "4L0489aTNwb0"
      },
      "execution_count": null,
      "outputs": []
    },
    {
      "cell_type": "code",
      "source": [
        "train1_t = train1_fractured + less_1\n",
        "train2_t = train2_fractured + less_2\n",
        "labels = []\n",
        "for i in range(len(less_1)):\n",
        "    labels += [1]\n",
        "\n",
        "for i in range(len(train1_fractured)):\n",
        "    labels += [0]"
      ],
      "metadata": {
        "id": "4IVqAEa3PjYh"
      },
      "execution_count": null,
      "outputs": []
    },
    {
      "cell_type": "code",
      "source": [
        "labels_t = np.asarray(labels).astype(np.float32)"
      ],
      "metadata": {
        "id": "wISMW0mGddbX"
      },
      "execution_count": null,
      "outputs": []
    },
    {
      "cell_type": "code",
      "source": [
        "train1 = np.array(train1_t)\n",
        "del train1_t"
      ],
      "metadata": {
        "id": "sCDCjm9vegK3"
      },
      "execution_count": null,
      "outputs": []
    },
    {
      "cell_type": "code",
      "source": [
        "train2 = np.array(train2_t)\n",
        "del train2_t"
      ],
      "metadata": {
        "id": "dypICkx204WZ"
      },
      "execution_count": null,
      "outputs": []
    },
    {
      "cell_type": "markdown",
      "source": [
        "# Model"
      ],
      "metadata": {
        "id": "Ktv_KpHE-CkD"
      }
    },
    {
      "cell_type": "code",
      "source": [
        "def euclidean_distance(vects):\n",
        "    \"\"\"Find the Euclidean distance between two vectors.\n",
        "\n",
        "    Arguments:\n",
        "        vects: List containing two tensors of same length.\n",
        "\n",
        "    Returns:\n",
        "        Tensor containing euclidean distance\n",
        "        (as floating point value) between vectors.\n",
        "    \"\"\"\n",
        "\n",
        "    x, y = vects\n",
        "    sum_square = tf.math.reduce_sum(tf.math.square(x - y), axis=1, keepdims=True)\n",
        "    return tf.math.sqrt(tf.math.maximum(sum_square, tf.keras.backend.epsilon()))\n",
        "\n",
        "\n",
        "input = layers.Input((50, 50, 3))\n",
        "x = tf.keras.layers.BatchNormalization()(input)\n",
        "x = layers.Conv2D(4, (5, 5), activation=\"relu\")(x)\n",
        "x = layers.AveragePooling2D(pool_size=(2, 2))(x)\n",
        "x = layers.Conv2D(16, (5, 5), activation=\"relu\")(x)\n",
        "x = layers.AveragePooling2D(pool_size=(2, 2))(x)\n",
        "x = layers.Flatten()(x)\n",
        "\n",
        "x = tf.keras.layers.BatchNormalization()(x)\n",
        "x = layers.Dense(10, activation=\"relu\")(x)\n",
        "embedding_network = keras.Model(input, x)\n",
        "\n",
        "\n",
        "input_1 = layers.Input((50, 50, 3))\n",
        "input_2 = layers.Input((50, 50, 3))\n",
        "\n",
        "# As mentioned above, Siamese Network share weights between\n",
        "# tower networks (sister networks). To allow this, we will use\n",
        "# same embedding network for both tower networks.\n",
        "tower_1 = embedding_network(input_1)\n",
        "tower_2 = embedding_network(input_2)\n",
        "\n",
        "merge_layer = layers.Lambda(euclidean_distance)([tower_1, tower_2])\n",
        "normal_layer = tf.keras.layers.BatchNormalization()(merge_layer)\n",
        "output_layer = layers.Dense(1, activation=\"sigmoid\")(normal_layer)\n",
        "siamese = keras.Model(inputs=[input_1, input_2], outputs=output_layer)"
      ],
      "metadata": {
        "id": "geyTg8Xus04U"
      },
      "execution_count": 51,
      "outputs": []
    },
    {
      "cell_type": "code",
      "source": [
        "def loss(margin=1):\n",
        "    \"\"\"Provides 'constrastive_loss' an enclosing scope with variable 'margin'.\n",
        "\n",
        "    Arguments:\n",
        "        margin: Integer, defines the baseline for distance for which pairs\n",
        "                should be classified as dissimilar. - (default is 1).\n",
        "\n",
        "    Returns:\n",
        "        'constrastive_loss' function with data ('margin') attached.\n",
        "    \"\"\"\n",
        "\n",
        "    # Contrastive loss = mean( (1-true_value) * square(prediction) +\n",
        "    #                         true_value * square( max(margin-prediction, 0) ))\n",
        "    def contrastive_loss(y_true, y_pred):\n",
        "        \"\"\"Calculates the constrastive loss.\n",
        "\n",
        "        Arguments:\n",
        "            y_true: List of labels, each label is of type float32.\n",
        "            y_pred: List of predictions of same length as of y_true,\n",
        "                    each label is of type float32.\n",
        "\n",
        "        Returns:\n",
        "            A tensor containing constrastive loss as floating point value.\n",
        "        \"\"\"\n",
        "\n",
        "        square_pred = tf.math.square(y_pred)\n",
        "        margin_square = tf.math.square(tf.math.maximum(margin - (y_pred), 0))\n",
        "        return tf.math.reduce_mean(\n",
        "            (1 - y_true) * square_pred + (y_true) * margin_square\n",
        "        )\n",
        "\n",
        "    return contrastive_loss"
      ],
      "metadata": {
        "id": "rRYszPbswZt9"
      },
      "execution_count": 52,
      "outputs": []
    },
    {
      "cell_type": "code",
      "source": [
        "def f1(y_true, y_pred):\n",
        "    def recall(y_true, y_pred):\n",
        "        \"\"\"Recall metric.\n",
        "\n",
        "        Only computes a batch-wise average of recall.\n",
        "\n",
        "        Computes the recall, a metric for multi-label classification of\n",
        "        how many relevant items are selected.\n",
        "        \"\"\"\n",
        "        true_positives = K.sum(K.round(K.clip(y_true * y_pred, 0, 1)))\n",
        "        possible_positives = K.sum(K.round(K.clip(y_true, 0, 1)))\n",
        "        recall = true_positives / (possible_positives + K.epsilon())\n",
        "        return recall\n",
        "\n",
        "    def precision(y_true, y_pred):\n",
        "        \"\"\"Precision metric.\n",
        "\n",
        "        Only computes a batch-wise average of precision.\n",
        "\n",
        "        Computes the precision, a metric for multi-label classification of\n",
        "        how many selected items are relevant.\n",
        "        \"\"\"\n",
        "        true_positives = K.sum(K.round(K.clip(y_true * y_pred, 0, 1)))\n",
        "        predicted_positives = K.sum(K.round(K.clip(y_pred, 0, 1)))\n",
        "        precision = true_positives / (predicted_positives + K.epsilon())\n",
        "        return precision\n",
        "    precision = precision(y_true, y_pred)\n",
        "    recall = recall(y_true, y_pred)\n",
        "    return 2*((precision*recall)/(precision+recall+K.epsilon()))"
      ],
      "metadata": {
        "id": "vnh0NveqRGTZ"
      },
      "execution_count": 53,
      "outputs": []
    },
    {
      "cell_type": "code",
      "source": [
        "epochs = 10\n",
        "batch_size = 32\n",
        "margin = 1\n",
        "siamese.compile(loss=loss(margin=margin), optimizer=\"adam\", metrics=[\"accuracy\", f1])\n",
        "siamese.summary()"
      ],
      "metadata": {
        "colab": {
          "base_uri": "https://localhost:8080/"
        },
        "id": "zuIKyq97whaE",
        "outputId": "d2882f50-8ad9-48db-8267-538661621fb1"
      },
      "execution_count": 54,
      "outputs": [
        {
          "output_type": "stream",
          "name": "stdout",
          "text": [
            "Model: \"model_3\"\n",
            "__________________________________________________________________________________________________\n",
            " Layer (type)                   Output Shape         Param #     Connected to                     \n",
            "==================================================================================================\n",
            " input_5 (InputLayer)           [(None, 50, 50, 3)]  0           []                               \n",
            "                                                                                                  \n",
            " input_6 (InputLayer)           [(None, 50, 50, 3)]  0           []                               \n",
            "                                                                                                  \n",
            " model_2 (Functional)           (None, 10)           20086       ['input_5[0][0]',                \n",
            "                                                                  'input_6[0][0]']                \n",
            "                                                                                                  \n",
            " lambda_1 (Lambda)              (None, 1)            0           ['model_2[0][0]',                \n",
            "                                                                  'model_2[1][0]']                \n",
            "                                                                                                  \n",
            " batch_normalization_5 (BatchNo  (None, 1)           4           ['lambda_1[0][0]']               \n",
            " rmalization)                                                                                     \n",
            "                                                                                                  \n",
            " dense_3 (Dense)                (None, 1)            2           ['batch_normalization_5[0][0]']  \n",
            "                                                                                                  \n",
            "==================================================================================================\n",
            "Total params: 20,092\n",
            "Trainable params: 17,492\n",
            "Non-trainable params: 2,600\n",
            "__________________________________________________________________________________________________\n"
          ]
        }
      ]
    },
    {
      "cell_type": "code",
      "source": [
        "plot_model(siamese, show_shapes=True, show_layer_names=True)"
      ],
      "metadata": {
        "colab": {
          "base_uri": "https://localhost:8080/",
          "height": 533
        },
        "id": "1h2AGPKYqRQ3",
        "outputId": "fa20074b-f99b-4867-e880-079b010c04b8"
      },
      "execution_count": 55,
      "outputs": [
        {
          "output_type": "execute_result",
          "data": {
            "image/png": "[encoded data removed]",
            "text/plain": [
              "<IPython.core.display.Image object>"
            ]
          },
          "metadata": {},
          "execution_count": 55
        }
      ]
    },
    {
      "cell_type": "code",
      "source": [
        "history = siamese.fit(\n",
        "    [train1, train2],\n",
        "    labels_t,\n",
        "    batch_size=batch_size,\n",
        "    epochs=epochs,\n",
        "    validation_split=0.2,\n",
        "    shuffle=True\n",
        ")"
      ],
      "metadata": {
        "colab": {
          "base_uri": "https://localhost:8080/"
        },
        "id": "EBduhiIuw9_9",
        "outputId": "a1b65e5a-572b-4329-e7df-f21389679106"
      },
      "execution_count": 56,
      "outputs": [
        {
          "output_type": "stream",
          "name": "stdout",
          "text": [
            "Epoch 1/10\n",
            "127/127 [==============================] - 14s 101ms/step - loss: 0.2362 - accuracy: 0.6781 - f1: 0.7787 - val_loss: 0.1520 - val_accuracy: 0.9941 - val_f1: 0.0000e+00\n",
            "Epoch 2/10\n",
            "127/127 [==============================] - 12s 91ms/step - loss: 0.2163 - accuracy: 0.7101 - f1: 0.8078 - val_loss: 0.1063 - val_accuracy: 1.0000 - val_f1: 0.0000e+00\n",
            "Epoch 3/10\n",
            "127/127 [==============================] - 12s 91ms/step - loss: 0.1981 - accuracy: 0.7309 - f1: 0.8266 - val_loss: 0.0936 - val_accuracy: 0.9663 - val_f1: 0.0000e+00\n",
            "Epoch 4/10\n",
            "127/127 [==============================] - 11s 90ms/step - loss: 0.1843 - accuracy: 0.7413 - f1: 0.8349 - val_loss: 0.3123 - val_accuracy: 0.1308 - val_f1: 0.0000e+00\n",
            "Epoch 5/10\n",
            "127/127 [==============================] - 11s 90ms/step - loss: 0.1735 - accuracy: 0.7584 - f1: 0.8475 - val_loss: 0.3124 - val_accuracy: 0.1843 - val_f1: 0.0000e+00\n",
            "Epoch 6/10\n",
            "127/127 [==============================] - 12s 95ms/step - loss: 0.1657 - accuracy: 0.7693 - f1: 0.8546 - val_loss: 0.1844 - val_accuracy: 0.7334 - val_f1: 0.0000e+00\n",
            "Epoch 7/10\n",
            "127/127 [==============================] - 14s 111ms/step - loss: 0.1580 - accuracy: 0.7802 - f1: 0.8608 - val_loss: 0.0011 - val_accuracy: 1.0000 - val_f1: 0.0000e+00\n",
            "Epoch 8/10\n",
            "127/127 [==============================] - 12s 91ms/step - loss: 0.1438 - accuracy: 0.8010 - f1: 0.8745 - val_loss: 0.4340 - val_accuracy: 0.0902 - val_f1: 0.0000e+00\n",
            "Epoch 9/10\n",
            "127/127 [==============================] - 11s 90ms/step - loss: 0.1376 - accuracy: 0.8080 - f1: 0.8773 - val_loss: 0.5422 - val_accuracy: 0.0813 - val_f1: 0.0000e+00\n",
            "Epoch 10/10\n",
            "127/127 [==============================] - 11s 90ms/step - loss: 0.1230 - accuracy: 0.8347 - f1: 0.8943 - val_loss: 0.4676 - val_accuracy: 0.0912 - val_f1: 0.0000e+00\n"
          ]
        }
      ]
    }
  ],
  "metadata": {
    "colab": {
      "provenance": []
    },
    "kernelspec": {
      "display_name": "Python 3",
      "name": "python3"
    },
    "language_info": {
      "name": "python"
    }
  },
  "nbformat": 4,
  "nbformat_minor": 0
}