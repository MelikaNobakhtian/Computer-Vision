{
  "nbformat": 4,
  "nbformat_minor": 0,
  "metadata": {
    "colab": {
      "provenance": []
    },
    "kernelspec": {
      "name": "python3",
      "display_name": "Python 3"
    },
    "language_info": {
      "name": "python"
    },
    "gpuClass": "standard",
    "accelerator": "GPU"
  },
  "cells": [
    {
      "cell_type": "markdown",
      "source": [
        "#Q2"
      ],
      "metadata": {
        "id": "Qq9GTCPRQUec"
      }
    },
    {
      "cell_type": "code",
      "execution_count": 12,
      "metadata": {
        "id": "U6idv-p1IkRv"
      },
      "outputs": [],
      "source": [
        "from tensorflow import keras\n",
        "import numpy as np \n",
        "import matplotlib.pyplot as plt\n",
        "from keras.utils.vis_utils import plot_model"
      ]
    },
    {
      "cell_type": "code",
      "source": [
        "# Load dataset\n",
        "(x_train, y_train), (x_test, y_test) = keras.datasets.cifar10.load_data()"
      ],
      "metadata": {
        "id": "ZboirzSo5CN5",
        "colab": {
          "base_uri": "https://localhost:8080/"
        },
        "outputId": "18c46313-ef57-4587-e444-390b41fbf203"
      },
      "execution_count": 2,
      "outputs": [
        {
          "output_type": "stream",
          "name": "stdout",
          "text": [
            "Downloading data from https://www.cs.toronto.edu/~kriz/cifar-10-python.tar.gz\n",
            "170498071/170498071 [==============================] - 13s 0us/step\n"
          ]
        }
      ]
    },
    {
      "cell_type": "code",
      "source": [
        "# Normalize data\n",
        "x_train = x_train.astype(float) / 255.\n",
        "x_test  = x_test.astype(float) / 255."
      ],
      "metadata": {
        "id": "FMYYX-aS5DPw"
      },
      "execution_count": 3,
      "outputs": []
    },
    {
      "cell_type": "code",
      "source": [
        "# Visualize data\n",
        "plt.imshow(x_train[np.random.randint(len(x_train))])\n",
        "plt.show()"
      ],
      "metadata": {
        "id": "TBMtjNQ96dwI",
        "colab": {
          "base_uri": "https://localhost:8080/",
          "height": 266
        },
        "outputId": "228da126-95ba-463a-ddb7-02ed9270a800"
      },
      "execution_count": 4,
      "outputs": [
        {
          "output_type": "display_data",
          "data": {
            "text/plain": [
              "<Figure size 432x288 with 1 Axes>"
            ],
            "image/png": "[encoded data removed]"
          },
          "metadata": {
            "needs_background": "light"
          }
        }
      ]
    },
    {
      "cell_type": "code",
      "source": [
        "# Convert class vectors to binary class matrices.\n",
        "num_classes = 10\n",
        "print(\"Y[0] before converting : \" , y_train[0])\n",
        "y_train = keras.utils.to_categorical(y_train, num_classes)\n",
        "y_test = keras.utils.to_categorical(y_test, num_classes)\n",
        "print(\"Y[0] after converting : \" , y_train[0]) "
      ],
      "metadata": {
        "id": "tgo_K2Ve5IGT",
        "colab": {
          "base_uri": "https://localhost:8080/"
        },
        "outputId": "4e386f6c-2806-4140-a9f1-28291d1b964e"
      },
      "execution_count": 5,
      "outputs": [
        {
          "output_type": "stream",
          "name": "stdout",
          "text": [
            "Y[0] before converting :  [6]\n",
            "Y[0] after converting :  [0. 0. 0. 0. 0. 0. 1. 0. 0. 0.]\n"
          ]
        }
      ]
    },
    {
      "cell_type": "code",
      "source": [
        "# Fully connected model\n",
        "fc_model = keras.Sequential()\n",
        "fc_model.add(keras.layers.Input(shape=x_train[0].shape))\n",
        "# Write your code here \n",
        "# Add Flatten layer and few Dense layers\n",
        "fc_model.add(keras.layers.Flatten(input_shape=x_train[0].shape))\n",
        "fc_model.add(keras.layers.Dense(units=128, activation='relu'))\n",
        "fc_model.add(keras.layers.Dense(units=512, activation='relu'))\n",
        "fc_model.add(keras.layers.Dense(units=256, activation='relu'))\n",
        "fc_model.add(keras.layers.Dense(units=num_classes, activation='softmax'))\n",
        "fc_model.summary()"
      ],
      "metadata": {
        "id": "UaFaTOUC5RRK",
        "colab": {
          "base_uri": "https://localhost:8080/"
        },
        "outputId": "8adc1c5a-1dff-40b7-ad7b-2689a1101370"
      },
      "execution_count": 24,
      "outputs": [
        {
          "output_type": "stream",
          "name": "stdout",
          "text": [
            "Model: \"sequential_14\"\n",
            "_________________________________________________________________\n",
            " Layer (type)                Output Shape              Param #   \n",
            "=================================================================\n",
            " flatten_14 (Flatten)        (None, 3072)              0         \n",
            "                                                                 \n",
            " dense_36 (Dense)            (None, 128)               393344    \n",
            "                                                                 \n",
            " dense_37 (Dense)            (None, 512)               66048     \n",
            "                                                                 \n",
            " dense_38 (Dense)            (None, 256)               131328    \n",
            "                                                                 \n",
            " dense_39 (Dense)            (None, 10)                2570      \n",
            "                                                                 \n",
            "=================================================================\n",
            "Total params: 593,290\n",
            "Trainable params: 593,290\n",
            "Non-trainable params: 0\n",
            "_________________________________________________________________\n"
          ]
        }
      ]
    },
    {
      "cell_type": "code",
      "source": [
        "plot_model(fc_model)"
      ],
      "metadata": {
        "id": "ffCa9BFA8VKj",
        "colab": {
          "base_uri": "https://localhost:8080/",
          "height": 564
        },
        "outputId": "78853f00-f352-4565-b2ff-c9f67a6625b6"
      },
      "execution_count": 25,
      "outputs": [
        {
          "output_type": "execute_result",
          "data": {
            "image/png": "[encoded data removed]",
            "text/plain": [
              "<IPython.core.display.Image object>"
            ]
          },
          "metadata": {},
          "execution_count": 25
        }
      ]
    },
    {
      "cell_type": "code",
      "source": [
        "Conv_model = keras.Sequential()\n",
        "Conv_model.add(keras.layers.Input(shape=x_train[0].shape))\n",
        "# write your code here\n",
        "# add few Conv layers and Flatten layer\n",
        "# you can use pool layers after Conv layers\n",
        "Conv_model.add(keras.layers.Conv2D(filters=128, kernel_size=(5, 5), activation='relu'))\n",
        "Conv_model.add(keras.layers.Conv2D(filters=64, kernel_size=(3, 3), activation='relu'))\n",
        "Conv_model.add(keras.layers.Conv2D(filters=32, kernel_size=(3, 3), activation='relu'))\n",
        "Conv_model.add(keras.layers.Flatten())\n",
        "Conv_model.add(keras.layers.Dense(units=num_classes, activation='softmax'))\n",
        "Conv_model.summary()"
      ],
      "metadata": {
        "colab": {
          "base_uri": "https://localhost:8080/"
        },
        "id": "JKdEMwqsRvKm",
        "outputId": "61bb7b84-e8c7-4e4a-9840-2f525717c060"
      },
      "execution_count": 13,
      "outputs": [
        {
          "output_type": "stream",
          "name": "stdout",
          "text": [
            "Model: \"sequential_4\"\n",
            "_________________________________________________________________\n",
            " Layer (type)                Output Shape              Param #   \n",
            "=================================================================\n",
            " conv2d_6 (Conv2D)           (None, 28, 28, 128)       9728      \n",
            "                                                                 \n",
            " conv2d_7 (Conv2D)           (None, 26, 26, 64)        73792     \n",
            "                                                                 \n",
            " conv2d_8 (Conv2D)           (None, 24, 24, 32)        18464     \n",
            "                                                                 \n",
            " flatten_4 (Flatten)         (None, 18432)             0         \n",
            "                                                                 \n",
            " dense_5 (Dense)             (None, 10)                184330    \n",
            "                                                                 \n",
            "=================================================================\n",
            "Total params: 286,314\n",
            "Trainable params: 286,314\n",
            "Non-trainable params: 0\n",
            "_________________________________________________________________\n"
          ]
        }
      ]
    },
    {
      "cell_type": "code",
      "source": [
        "plot_model(Conv_model)"
      ],
      "metadata": {
        "id": "BkD1BSHd9hH-",
        "colab": {
          "base_uri": "https://localhost:8080/",
          "height": 564
        },
        "outputId": "3c902945-1715-44e1-cd07-09b208f6cc2d"
      },
      "execution_count": 26,
      "outputs": [
        {
          "output_type": "execute_result",
          "data": {
            "image/png": "[encoded data removed]",
            "text/plain": [
              "<IPython.core.display.Image object>"
            ]
          },
          "metadata": {},
          "execution_count": 26
        }
      ]
    },
    {
      "cell_type": "code",
      "source": [
        "models_name = {}\n",
        "models_name[0] = 'Fully Connected Model'\n",
        "models_name[1] = 'Convolutional Model'\n",
        "\n",
        "for i, model in enumerate([fc_model, Conv_model]):\n",
        "    print(models_name[i])\n",
        "    plot_model(model)\n",
        "    model.compile(\n",
        "        loss='categorical_crossentropy',\n",
        "        optimizer=keras.optimizers.Adam(learning_rate=2e-3),\n",
        "        metrics=['accuracy'] \n",
        "    )   \n",
        "    model.fit(x_train, y_train, epochs=5)\n",
        "    print('\\n')\n",
        "    print('Loss and Accuracy on Test set : ')\n",
        "    model.evaluate(x_test, y_test)\n",
        "    print('\\n')\n"
      ],
      "metadata": {
        "id": "A8of1QIv9rV8",
        "colab": {
          "base_uri": "https://localhost:8080/"
        },
        "outputId": "76b5b21f-716b-43a0-98a7-02b0bbf5a503"
      },
      "execution_count": 27,
      "outputs": [
        {
          "output_type": "stream",
          "name": "stdout",
          "text": [
            "Fully Connected Model\n",
            "Epoch 1/5\n",
            "1563/1563 [==============================] - 6s 4ms/step - loss: 1.9515 - accuracy: 0.2801\n",
            "Epoch 2/5\n",
            "1563/1563 [==============================] - 5s 3ms/step - loss: 1.8281 - accuracy: 0.3321\n",
            "Epoch 3/5\n",
            "1563/1563 [==============================] - 5s 3ms/step - loss: 1.7846 - accuracy: 0.3524\n",
            "Epoch 4/5\n",
            "1563/1563 [==============================] - 5s 3ms/step - loss: 1.7529 - accuracy: 0.3638\n",
            "Epoch 5/5\n",
            "1563/1563 [==============================] - 5s 3ms/step - loss: 1.7349 - accuracy: 0.3694\n",
            "\n",
            "\n",
            "Loss and Accuracy on Test set : \n",
            "313/313 [==============================] - 1s 3ms/step - loss: 1.8096 - accuracy: 0.3394\n",
            "\n",
            "\n",
            "Convolutional Model\n",
            "Epoch 1/5\n",
            "1563/1563 [==============================] - 11s 7ms/step - loss: 0.9662 - accuracy: 0.6613\n",
            "Epoch 2/5\n",
            "1563/1563 [==============================] - 10s 7ms/step - loss: 0.8767 - accuracy: 0.6932\n",
            "Epoch 3/5\n",
            "1563/1563 [==============================] - 10s 7ms/step - loss: 0.7914 - accuracy: 0.7236\n",
            "Epoch 4/5\n",
            "1563/1563 [==============================] - 11s 7ms/step - loss: 0.7166 - accuracy: 0.7504\n",
            "Epoch 5/5\n",
            "1563/1563 [==============================] - 10s 6ms/step - loss: 0.6469 - accuracy: 0.7731\n",
            "\n",
            "\n",
            "Loss and Accuracy on Test set : \n",
            "313/313 [==============================] - 1s 4ms/step - loss: 1.6625 - accuracy: 0.5403\n",
            "\n",
            "\n"
          ]
        }
      ]
    },
    {
      "cell_type": "markdown",
      "source": [
        "#Q3"
      ],
      "metadata": {
        "id": "0GlSGw2eQWkI"
      }
    },
    {
      "cell_type": "code",
      "source": [
        "import tensorflow as tf\n",
        "import cv2\n",
        "import os \n",
        "import matplotlib.pyplot as plt\n",
        "import numpy as np"
      ],
      "metadata": {
        "id": "TWE2DiIeszyj"
      },
      "execution_count": 2,
      "outputs": []
    },
    {
      "cell_type": "code",
      "source": [
        "!rm -r sample_data"
      ],
      "metadata": {
        "id": "b4LZXoD8nhIZ"
      },
      "execution_count": 3,
      "outputs": []
    },
    {
      "cell_type": "code",
      "source": [
        "!gdown \"1Y2CM201yphBcdovvheDkEn9Bzu6IXeUZ&confirm=t\""
      ],
      "metadata": {
        "id": "m7HREJlcVfvo",
        "colab": {
          "base_uri": "https://localhost:8080/"
        },
        "outputId": "a84b11c4-27d5-43ea-a68f-b0edd2e02035"
      },
      "execution_count": 4,
      "outputs": [
        {
          "output_type": "stream",
          "name": "stdout",
          "text": [
            "Downloading...\n",
            "From: https://drive.google.com/uc?id=1Y2CM201yphBcdovvheDkEn9Bzu6IXeUZ&confirm=t\n",
            "To: /content/fruits-360-original-size.zip\n",
            "100% 579M/579M [00:15<00:00, 36.9MB/s]\n"
          ]
        }
      ]
    },
    {
      "cell_type": "code",
      "source": [
        "!unzip fruits-360-original-size.zip"
      ],
      "metadata": {
        "id": "aXPIYYfVnkcd"
      },
      "execution_count": null,
      "outputs": []
    },
    {
      "cell_type": "markdown",
      "source": [
        "## A : complete resize image"
      ],
      "metadata": {
        "id": "EkR0BEdj9olP"
      }
    },
    {
      "cell_type": "code",
      "source": [
        "BASE_PATH = '/content/fruits-360-original-size/'\n",
        "\n",
        "# path to the train folder\n",
        "DATA_TRAIN_PATH = os.path.join(BASE_PATH, 'Training')\n",
        "\n",
        "# path to the test folder \n",
        "DATA_TEST_PATH = os.path.join(BASE_PATH, 'Test')"
      ],
      "metadata": {
        "id": "czACR9kYoVC8"
      },
      "execution_count": 6,
      "outputs": []
    },
    {
      "cell_type": "code",
      "source": [
        "def resize_img(img, desired_size = 224):\n",
        "    # write your code here\n",
        "    channels = 3\n",
        "    old_size = img.shape\n",
        "    ratio = float(desired_size) / max(old_size)\n",
        "    new_size = (int(old_size[1] * ratio), int(old_size[0] * ratio))\n",
        "    img = cv2.resize(img, new_size)\n",
        "    diff_w = desired_size - new_size[0]\n",
        "    diff_h = desired_size - new_size[1]\n",
        "    top, bottom = diff_h//2, diff_h-(diff_h//2)\n",
        "    left, right = diff_w//2, diff_w-(diff_w//2)\n",
        "    new_img = np.zeros((desired_size, desired_size, channels), dtype=img.dtype)\n",
        "    for i in range(channels):\n",
        "      ch = img[:, :, i]\n",
        "      new_ch = np.pad(ch, ((top, bottom),(left, right)), 'constant')\n",
        "      new_img[:, :, i] = new_ch\n",
        "    return new_img"
      ],
      "metadata": {
        "id": "D07DQJ0Bptjb"
      },
      "execution_count": 7,
      "outputs": []
    },
    {
      "cell_type": "code",
      "source": [
        "path = '/content/fruits-360-original-size/Training/carrot_1/r0_136.jpg'\n",
        "img = cv2.imread(path)[:,:,::-1]\n",
        "plt.imshow(img)\n",
        "plt.show()\n",
        "print(img.shape)"
      ],
      "metadata": {
        "id": "MVYOhNXFo3p5",
        "colab": {
          "base_uri": "https://localhost:8080/",
          "height": 286
        },
        "outputId": "c7e115f4-09cc-4241-98e3-640e94467474"
      },
      "execution_count": 8,
      "outputs": [
        {
          "output_type": "display_data",
          "data": {
            "text/plain": [
              "<Figure size 432x288 with 1 Axes>"
            ],
            "image/png": "[encoded data removed]"
          },
          "metadata": {
            "needs_background": "light"
          }
        },
        {
          "output_type": "stream",
          "name": "stdout",
          "text": [
            "(653, 184, 3)\n"
          ]
        }
      ]
    },
    {
      "cell_type": "code",
      "source": [
        "new_img = resize_img(img)\n",
        "plt.imshow(new_img)\n",
        "new_img.shape"
      ],
      "metadata": {
        "id": "8rmykk8Rqhr7",
        "colab": {
          "base_uri": "https://localhost:8080/",
          "height": 286
        },
        "outputId": "2c76edb4-9768-474d-cf40-be06acf5d3dd"
      },
      "execution_count": 9,
      "outputs": [
        {
          "output_type": "execute_result",
          "data": {
            "text/plain": [
              "(224, 224, 3)"
            ]
          },
          "metadata": {},
          "execution_count": 9
        },
        {
          "output_type": "display_data",
          "data": {
            "text/plain": [
              "<Figure size 432x288 with 1 Axes>"
            ],
            "image/png": "[encoded data removed]"
          },
          "metadata": {
            "needs_background": "light"
          }
        }
      ]
    },
    {
      "cell_type": "markdown",
      "source": [
        "## Image Data generator"
      ],
      "metadata": {
        "id": "WC60fnUP9uwZ"
      }
    },
    {
      "cell_type": "code",
      "source": [
        "import tensorflow.keras.preprocessing.image as IM\n",
        "\n",
        "train_datagen = IM.ImageDataGenerator(rescale=1./255,\n",
        "    preprocessing_function=resize_img)\n",
        "\n",
        "test_datagen = IM.ImageDataGenerator(rescale=1./255,\n",
        "    preprocessing_function=resize_img)\n",
        "\n",
        "train_generator  = train_datagen.flow_from_directory(DATA_TRAIN_PATH,batch_size=96,target_size=(224,224))\n",
        "test_generator  = test_datagen.flow_from_directory(DATA_TEST_PATH,batch_size=96,target_size=(224,224))"
      ],
      "metadata": {
        "colab": {
          "base_uri": "https://localhost:8080/"
        },
        "id": "ecZcddSJnq2T",
        "outputId": "bc3b688c-b4b5-40b1-b61f-64bd309d2fd6"
      },
      "execution_count": 10,
      "outputs": [
        {
          "output_type": "stream",
          "name": "stdout",
          "text": [
            "Found 6231 images belonging to 24 classes.\n",
            "Found 3110 images belonging to 24 classes.\n"
          ]
        }
      ]
    },
    {
      "cell_type": "markdown",
      "source": [
        "## B : Resnet50 with random weigts"
      ],
      "metadata": {
        "id": "VY25lCxR8l4o"
      }
    },
    {
      "cell_type": "code",
      "source": [
        "# YOU CAN CHANGE IT\n",
        "EPOCHS = 5"
      ],
      "metadata": {
        "id": "ayuILFJT8RZP"
      },
      "execution_count": 16,
      "outputs": []
    },
    {
      "cell_type": "code",
      "source": [
        "resnet = tf.keras.models.Sequential()\n",
        "# Write your code here\n",
        "resnet.add(keras.layers.Input(shape=(224, 224, 3)))\n",
        "resnet_50 = tf.keras.applications.ResNet50(include_top=True, weights=None, classes=24)\n",
        "resnet.add(resnet_50)\n",
        "resnet.summary()"
      ],
      "metadata": {
        "id": "X5y_nU9V52Sm",
        "colab": {
          "base_uri": "https://localhost:8080/"
        },
        "outputId": "5a7e0121-1d7d-4485-9482-3e538dd18b96"
      },
      "execution_count": 17,
      "outputs": [
        {
          "output_type": "stream",
          "name": "stdout",
          "text": [
            "Model: \"sequential_2\"\n",
            "_________________________________________________________________\n",
            " Layer (type)                Output Shape              Param #   \n",
            "=================================================================\n",
            " resnet50 (Functional)       (None, 24)                23636888  \n",
            "                                                                 \n",
            "=================================================================\n",
            "Total params: 23,636,888\n",
            "Trainable params: 23,583,768\n",
            "Non-trainable params: 53,120\n",
            "_________________________________________________________________\n"
          ]
        }
      ]
    },
    {
      "cell_type": "code",
      "source": [
        "loss = tf.keras.losses.CategoricalCrossentropy()\n",
        "optimizer = tf.keras.optimizers.Adam()\n",
        "resnet.compile(loss= loss, optimizer= optimizer, metrics=\"acc\")"
      ],
      "metadata": {
        "id": "qeF2HFQa8C4w"
      },
      "execution_count": 18,
      "outputs": []
    },
    {
      "cell_type": "code",
      "source": [
        "resnet.fit(train_generator, epochs=EPOCHS)"
      ],
      "metadata": {
        "id": "1aTWQVfN8OPI",
        "colab": {
          "base_uri": "https://localhost:8080/"
        },
        "outputId": "0ee76228-0c63-4af8-e764-943cc2ccbfc0"
      },
      "execution_count": 19,
      "outputs": [
        {
          "output_type": "stream",
          "name": "stdout",
          "text": [
            "Epoch 1/5\n",
            "65/65 [==============================] - 84s 1s/step - loss: 0.7884 - acc: 0.7864\n",
            "Epoch 2/5\n",
            "65/65 [==============================] - 65s 990ms/step - loss: 0.2194 - acc: 0.9270\n",
            "Epoch 3/5\n",
            "65/65 [==============================] - 63s 964ms/step - loss: 0.0466 - acc: 0.9856\n",
            "Epoch 4/5\n",
            "65/65 [==============================] - 63s 963ms/step - loss: 0.0484 - acc: 0.9849\n",
            "Epoch 5/5\n",
            "65/65 [==============================] - 63s 962ms/step - loss: 0.2132 - acc: 0.9350\n"
          ]
        },
        {
          "output_type": "execute_result",
          "data": {
            "text/plain": [
              "<keras.callbacks.History at 0x7f093033dcd0>"
            ]
          },
          "metadata": {},
          "execution_count": 19
        }
      ]
    },
    {
      "cell_type": "markdown",
      "source": [
        "## C : Fine-tune Resnet50 on fruits dataset."
      ],
      "metadata": {
        "id": "kl1lESTv8uZJ"
      }
    },
    {
      "cell_type": "code",
      "source": [
        "fine_tune_resnet = tf.keras.models.Sequential()\n",
        "# write your code here \n",
        "fine_tune_resnet.add(keras.layers.Input(shape=(224, 224, 3)))\n",
        "resnet_50 = tf.keras.applications.ResNet50(include_top=False, weights='imagenet')\n",
        "resnet_50.trainable = False\n",
        "fine_tune_resnet.add(resnet_50)\n",
        "fine_tune_resnet.add(keras.layers.Flatten())\n",
        "fine_tune_resnet.add(keras.layers.Dense(units=24, activation='softmax'))\n",
        "fine_tune_resnet.summary()\n"
      ],
      "metadata": {
        "id": "zepWgjspppW1",
        "colab": {
          "base_uri": "https://localhost:8080/"
        },
        "outputId": "5997c221-d25d-4878-bd5e-700eb8e60a9d"
      },
      "execution_count": 20,
      "outputs": [
        {
          "output_type": "stream",
          "name": "stdout",
          "text": [
            "Model: \"sequential_3\"\n",
            "_________________________________________________________________\n",
            " Layer (type)                Output Shape              Param #   \n",
            "=================================================================\n",
            " resnet50 (Functional)       (None, None, None, 2048)  23587712  \n",
            "                                                                 \n",
            " flatten_1 (Flatten)         (None, 100352)            0         \n",
            "                                                                 \n",
            " dense_1 (Dense)             (None, 24)                2408472   \n",
            "                                                                 \n",
            "=================================================================\n",
            "Total params: 25,996,184\n",
            "Trainable params: 2,408,472\n",
            "Non-trainable params: 23,587,712\n",
            "_________________________________________________________________\n"
          ]
        }
      ]
    },
    {
      "cell_type": "code",
      "source": [
        "loss = tf.keras.losses.CategoricalCrossentropy()\n",
        "optimizer = tf.keras.optimizers.Adam()\n",
        "fine_tune_resnet.compile(loss= loss, optimizer= optimizer, metrics=\"acc\")"
      ],
      "metadata": {
        "id": "6w0GV-smxgpD"
      },
      "execution_count": 21,
      "outputs": []
    },
    {
      "cell_type": "code",
      "source": [
        "fine_tune_resnet.fit(train_generator, epochs=EPOCHS)"
      ],
      "metadata": {
        "id": "MU6Ur3xoyI6O",
        "colab": {
          "base_uri": "https://localhost:8080/"
        },
        "outputId": "b10b0bd5-3b1b-4cf0-b502-08abe1f19372"
      },
      "execution_count": 22,
      "outputs": [
        {
          "output_type": "stream",
          "name": "stdout",
          "text": [
            "Epoch 1/5\n",
            "65/65 [==============================] - 49s 695ms/step - loss: 5.8263 - acc: 0.4096\n",
            "Epoch 2/5\n",
            "65/65 [==============================] - 43s 662ms/step - loss: 0.3991 - acc: 0.8867\n",
            "Epoch 3/5\n",
            "65/65 [==============================] - 44s 669ms/step - loss: 0.2798 - acc: 0.9177\n",
            "Epoch 4/5\n",
            "65/65 [==============================] - 43s 661ms/step - loss: 0.1639 - acc: 0.9642\n",
            "Epoch 5/5\n",
            "65/65 [==============================] - 43s 658ms/step - loss: 0.1462 - acc: 0.9698\n"
          ]
        },
        {
          "output_type": "execute_result",
          "data": {
            "text/plain": [
              "<keras.callbacks.History at 0x7f0930d0a850>"
            ]
          },
          "metadata": {},
          "execution_count": 22
        }
      ]
    },
    {
      "cell_type": "markdown",
      "source": [
        "## Test models"
      ],
      "metadata": {
        "id": "1tHdp2M6_3c6"
      }
    },
    {
      "cell_type": "code",
      "source": [
        "resnet.evaluate(test_generator)"
      ],
      "metadata": {
        "id": "epoBuiG48dki",
        "colab": {
          "base_uri": "https://localhost:8080/"
        },
        "outputId": "fffacf0f-30de-4be6-a317-6a2b7c166193"
      },
      "execution_count": 23,
      "outputs": [
        {
          "output_type": "stream",
          "name": "stdout",
          "text": [
            "33/33 [==============================] - 24s 678ms/step - loss: 5.0227 - acc: 0.4048\n"
          ]
        },
        {
          "output_type": "execute_result",
          "data": {
            "text/plain": [
              "[5.022700309753418, 0.4048231542110443]"
            ]
          },
          "metadata": {},
          "execution_count": 23
        }
      ]
    },
    {
      "cell_type": "code",
      "source": [
        "fine_tune_resnet.evaluate(test_generator)"
      ],
      "metadata": {
        "id": "K09b3maVvmM-",
        "colab": {
          "base_uri": "https://localhost:8080/"
        },
        "outputId": "c08cc800-e596-4f4d-cd50-585ad7680875"
      },
      "execution_count": 24,
      "outputs": [
        {
          "output_type": "stream",
          "name": "stdout",
          "text": [
            "33/33 [==============================] - 25s 710ms/step - loss: 0.1047 - acc: 0.9820\n"
          ]
        },
        {
          "output_type": "execute_result",
          "data": {
            "text/plain": [
              "[0.1046600416302681, 0.981993556022644]"
            ]
          },
          "metadata": {},
          "execution_count": 24
        }
      ]
    }
  ]
}